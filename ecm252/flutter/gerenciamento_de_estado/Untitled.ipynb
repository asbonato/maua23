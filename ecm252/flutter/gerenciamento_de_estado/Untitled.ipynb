{
 "cells": [
  {
   "cell_type": "markdown",
   "id": "28ec5d8b",
   "metadata": {},
   "source": [
    "| dias| freq ab| freq rel| freq acum|\n",
    "|----:|-------:|--------:|---------:|\n",
    "|    5|       1|     0.04|      0.04|\n",
    "|    6|       4|     0.16|      0.20|\n",
    "|    7|       6|     0.24|      0.44|\n",
    "|    8|       5|     0.20|      0.64|\n",
    "|    9|       5|     0.20|      0.84|\n",
    "|   10|       3|     0.12|      0.96|\n",
    "|   11|       1|     0.04|      1.00|"
   ]
  },
  {
   "cell_type": "code",
   "execution_count": null,
   "id": "6e055787",
   "metadata": {},
   "outputs": [],
   "source": []
  }
 ],
 "metadata": {
  "kernelspec": {
   "display_name": "Python 3",
   "language": "python",
   "name": "python3"
  },
  "language_info": {
   "codemirror_mode": {
    "name": "ipython",
    "version": 3
   },
   "file_extension": ".py",
   "mimetype": "text/x-python",
   "name": "python",
   "nbconvert_exporter": "python",
   "pygments_lexer": "ipython3",
   "version": "3.11.3"
  }
 },
 "nbformat": 4,
 "nbformat_minor": 5
}
